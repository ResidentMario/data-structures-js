{
 "cells": [
  {
   "cell_type": "markdown",
   "metadata": {},
   "source": [
    "## Knapsack Problem"
   ]
  },
  {
   "cell_type": "markdown",
   "metadata": {},
   "source": [
    "### Understand the problem statement (1)\n",
    "\n",
    "Q: *Knapsack problem*: Given a knapsack with a fixed weight capacity and a set of objects with variable weight and value, what is the maximum value of goods that can be placed in the knapsack, subject to a constraint on the weight?\n",
    "\n",
    "This is the most famous dynamic programming exercise out there. I did it once in college, but have long since forgotten how. Gulp.\n",
    "\n",
    "The brute force solution is simple: try every single possible combination of goods."
   ]
  },
  {
   "cell_type": "markdown",
   "metadata": {},
   "source": [
    "### Unit tests (2)"
   ]
  },
  {
   "cell_type": "code",
   "execution_count": 1,
   "metadata": {},
   "outputs": [
    {
     "ename": "ReferenceError",
     "evalue": "knapsack is not defined",
     "output_type": "error",
     "traceback": [
      "evalmachine.<anonymous>:3",
      "assert.deepEqual(knapsack([], 10), []);",
      "       ^",
      "",
      "ReferenceError: knapsack is not defined",
      "    at evalmachine.<anonymous>:3:8",
      "    at ContextifyScript.Script.runInThisContext (vm.js:50:33)",
      "    at Object.runInThisContext (vm.js:139:38)",
      "    at run ([eval]:971:15)",
      "    at onRunRequest ([eval]:798:18)",
      "    at onMessage ([eval]:758:13)",
      "    at emitTwo (events.js:126:13)",
      "    at process.emit (events.js:214:7)",
      "    at emit (internal/child_process.js:772:12)",
      "    at _combinedTickCallback (internal/process/next_tick.js:141:11)"
     ]
    }
   ],
   "source": [
    "assert = require('assert');\n",
    "\n",
    "assert.deepEqual(knapsack([], 10), []);\n",
    "assert.deepEqual(knapsack([{'value': 5, 'weight': 2}, {'value': 5, 'weight': 2}], 10),\n",
    "                 [{'value': 5, 'weight': 2}, {'value': 5, 'weight': 2}]);\n",
    "assert.deepEqual(knapsack([{'value': 5, 'weight': 2}, {'value': 4, 'weight': 10}], 10),\n",
    "                 [{'value': 5, 'weight': 2}]);\n",
    "assert.deepEqual(knapsack([{'value': 5, 'weight': 10}, \n",
    "                           {'value': 15, 'weight': 10}], 10),\n",
    "                 [{'value': 15, 'weight': 10}]);"
   ]
  },
  {
   "cell_type": "markdown",
   "metadata": {},
   "source": [
    "### Brute force psuedocode (3)\n",
    "\n",
    "```\n",
    "function knapsack(items, max_weight):\n",
    "    best_items = []\n",
    "    best_value = 0\n",
    "    for item_combo in items x items:  # cross join\n",
    "        if total_weight(item_combo) < max_weight:\n",
    "            if total_value(item_combo) > best_value:\n",
    "                best_items = item_combo\n",
    "                best_weight = total_weight\n",
    "            \n",
    "    return best_items\n",
    "```"
   ]
  },
  {
   "cell_type": "code",
   "execution_count": 2,
   "metadata": {},
   "outputs": [],
   "source": [
    "// Helper function for performing a cross join.\n",
    "var combine = function(a, min) {\n",
    "    var fn = function(n, src, got, all) {\n",
    "        if (n == 0) {\n",
    "            if (got.length > 0) {\n",
    "                all[all.length] = got;\n",
    "            }\n",
    "            return;\n",
    "        }\n",
    "        for (var j = 0; j < src.length; j++) {\n",
    "            fn(n - 1, src.slice(j + 1), got.concat([src[j]]), all);\n",
    "        }\n",
    "        return;\n",
    "    }\n",
    "    var all = [];\n",
    "    for (var i = min; i < a.length; i++) {\n",
    "        fn(i, a, [], all);\n",
    "    }\n",
    "    all.push(a);\n",
    "    return all;\n",
    "}"
   ]
  },
  {
   "cell_type": "code",
   "execution_count": 3,
   "metadata": {},
   "outputs": [],
   "source": [
    "function knapsack(goods, max_weight) {\n",
    "    let best_items = [];\n",
    "    let best_value = 0;\n",
    "    \n",
    "    if (goods.length == 0) { return []; }\n",
    "    \n",
    "    for (let subset of combine(goods, 1)) {\n",
    "        \n",
    "        let new_weight = subset.length > 1 ? subset.reduce((a, b) => a.weight + b.weight) : subset[0].weight;\n",
    "        if (new_weight <= max_weight) {\n",
    "            let new_value = subset.length > 1 ? (subset.reduce((a, b) => a.value + b.value)) : subset[0].value;\n",
    "            if (new_value > best_value) {\n",
    "                best_value = new_value;\n",
    "                best_items = subset;\n",
    "            }\n",
    "        }\n",
    "        \n",
    "    }\n",
    "    \n",
    "    return best_items;\n",
    "}"
   ]
  },
  {
   "cell_type": "markdown",
   "metadata": {},
   "source": [
    "### Property analysis (4)\n",
    "\n",
    "1. If the set $\\{a_{i1},\\ldots,a_{ik}\\}$ does not fit, any superset of this set will not fit either. In other words:\n",
    "\n",
    "    $k(s_1) = F \\:\\cap\\: s_1 \\in s_2 \\implies k(s_2) = F$\n",
    "\n",
    "\n",
    "\n",
    "2. Although we used an iterative solution there is also a recursive solution. In the recursive solution, we try to stick the current item-set in the bag, then try recursively stuffing every one-less subset of the current item-set in the bag, with a base case of no items.\n",
    "\n",
    "3. For any particular combination of items (for example, in the simplest case for single items) there is some global weight order $w_{a(i1)} < w_{a(i2)} < \\ldots < w_{a(i3)}$. If we attempt to add some $a(ik)$, and it is too heavy to add, all $a(ij)$ where $j > k$ will also be too heavy.\n",
    "\n",
    "4. The global weight order for sets of size $n$ may be easily derived from knowing the global weight order of sets of size $n-1$.\n",
    "\n",
    "5. If we know the weight and value of set $s1$, and set $s2$ adds a single item $k$ to $s1$, then we have the following recurrence relationships:\n",
    "\n",
    "    $w_{s2} = w_{s1} + w_k$\n",
    "    \n",
    "    $v_{s2} = v_{s2} + v_k$\n",
    "\n",
    "\n",
    "From P1 we see that if we construct a loop through item-sets whose first order sort is the set size, we may eliminate many possible non-comformant combinations from consideration by eliminating smaller non-conformant subsets earlier in the loop.\n",
    "\n",
    "From P3,P4 we see that we can easily construct a loop whose second order sort is the total weight of the set (e.g. each pass would be an in-order list of sets of the same size by weight ascending), which would further allow us to eliminate all remaining sets to be iterated over as soon as the first set in the list fails the weight test.\n",
    "\n",
    "From P5 we see that if we memoize previous weight calculations, we may calculate the new weight and value using two comparison operations instead of very many of them."
   ]
  },
  {
   "cell_type": "markdown",
   "metadata": {},
   "source": [
    "### Pseudocode (5)\n",
    "\n",
    "```\n",
    "function knapsack(items, max_weight):\n",
    "    itemsets = sorted_by_weight(items)\n",
    "    max_value = 0\n",
    "    max_itemset = []\n",
    "    while len(itemsets) > 0:\n",
    "        items_i = 0\n",
    "        while items_i < len(itemsets):\n",
    "            if total_weight(itemsets[items_i]) <= max_weight:\n",
    "                current_value = total_value(itemsets[items_i])\n",
    "                if current_value > max_value:\n",
    "                    max_itemset = itemsets[items_i]\n",
    "                    max_value = current_value\n",
    "                items_i += 1\n",
    "                if len(itemsets) <= items_i:\n",
    "                    break\n",
    "            else:\n",
    "                itemsets = itemsets[:items_i]\n",
    "                break\n",
    "        itemsets = sorted_by_weight({itemsets cross join individual items})\n",
    "    return max_itemset\n",
    "```\n",
    "\n",
    "Note that this psuedocode is missing an exit condition for when the entire current sublist is retained, and that it doesn't implement P5 memoization. The former was a mistake and the latter an optimization that didn't require significant code refactoring, so I did it later."
   ]
  },
  {
   "cell_type": "markdown",
   "metadata": {},
   "source": [
    "### Optimized solution (6)"
   ]
  },
  {
   "cell_type": "markdown",
   "metadata": {},
   "source": [
    "We first need to implement a test an ordered upsize-by-one algorithm, which is a non-trivial component of the algorithm above."
   ]
  },
  {
   "cell_type": "code",
   "execution_count": 4,
   "metadata": {},
   "outputs": [],
   "source": [
    "function _append_itemset(itemsets, items) {\n",
    "    let out = [];\n",
    "    itemsets.forEach(itemset => {\n",
    "        items.forEach(item => {\n",
    "            if (!itemset.includes(item)) {\n",
    "                out.push(itemset.concat([item]));\n",
    "            }\n",
    "        });\n",
    "    });\n",
    "    return out;\n",
    "}"
   ]
  },
  {
   "cell_type": "code",
   "execution_count": 5,
   "metadata": {},
   "outputs": [],
   "source": [
    "assert.deepEqual(_append_itemset([], []), []);\n",
    "assert.deepEqual(_append_itemset([[1]], [1, 2, 3]), [[1, 2], [1, 3]]);  // Needs to preserve order!\n",
    "assert.deepEqual(_append_itemset([[1]], [1, 2, 3]), [[1, 2], [1, 3]]);"
   ]
  },
  {
   "cell_type": "markdown",
   "metadata": {},
   "source": [
    "Now we implement the primary function."
   ]
  },
  {
   "cell_type": "code",
   "execution_count": 6,
   "metadata": {},
   "outputs": [],
   "source": [
    "function knapsack(items, max_weight) {\n",
    "    if (items.length == 0) { return []; }\n",
    "    \n",
    "    let itemsets = items.sort((a, b) => a.weight < b.weight).map(v => [v]);\n",
    "    let max_value = 0;\n",
    "    let max_itemset = [];\n",
    "    while (itemsets.length > 0) {\n",
    "//         console.log(\"TOP OF THE LOOP\");\n",
    "//         console.log(itemsets.length);\n",
    "//         console.log(itemsets);\n",
    "        let items_i = 0;\n",
    "        while (items_i < itemsets.length) {\n",
    "            let curr_set = itemsets[items_i];\n",
    "//             console.log(\"SUBLOOP\");\n",
    "//             console.log(items_i);\n",
    "//             console.log(curr_set);\n",
    "            let total_weight = curr_set.length > 1 ? \n",
    "                    curr_set.reduce((a, b) => a.weight + b.weight) :\n",
    "                    curr_set[0].weight;\n",
    "//             console.log(total_weight);\n",
    "            if (total_weight <= max_weight) {\n",
    "                let current_value = curr_set.length > 1 ? \n",
    "                    curr_set.reduce((a, b) => a.value + b.value) :\n",
    "                    curr_set[0].value;\n",
    "                if (current_value >  max_value) {\n",
    "                    max_itemset = curr_set;\n",
    "                    max_value = current_value;\n",
    "                }\n",
    "                items_i += 1;\n",
    "            }\n",
    "            else {\n",
    "//                 console.log(\"BROKE OUT BY SHORTENING THE LIST\");\n",
    "                itemsets = itemsets.slice(0, items_i);\n",
    "                break;\n",
    "            }\n",
    "            \n",
    "            if (itemsets.length <= items_i) {\n",
    "//                 console.log(\"BROKE OUT BY EXHAUSTING THE LIST\");\n",
    "                break;\n",
    "            }\n",
    "        }\n",
    "        itemsets = _append_itemset(itemsets, items);\n",
    "    }\n",
    "    return max_itemset;\n",
    "}"
   ]
  },
  {
   "cell_type": "markdown",
   "metadata": {},
   "source": [
    "### Psuedocode again (6r2)\n",
    "\n",
    "We'll perform another optimization now: memoization. Here's the psuedocode for this second round:"
   ]
  },
  {
   "cell_type": "markdown",
   "metadata": {},
   "source": [
    "```\n",
    "function knapsack(items, max_weight):\n",
    "    itemsets = sorted_by_weight(items)\n",
    "    max_value = 0\n",
    "    max_itemset = []\n",
    "    memo = {}\n",
    "    while len(itemsets) > 0:\n",
    "        items_i = 0\n",
    "        while items_i < len(itemsets):\n",
    "            if total_weight(itemsets[items_i]) <= max_weight:\n",
    "                current_value = total_value(itemsets[items_i])\n",
    "                if current_value > max_value:\n",
    "                    max_itemset = itemsets[items_i]\n",
    "                    max_value = current_value\n",
    "                items_i += 1\n",
    "                if len(itemsets) <= items_i:\n",
    "                    break\n",
    "            else:\n",
    "                itemsets = itemsets[:items_i]\n",
    "                break\n",
    "                \n",
    "            if items_i >= len(itemsets):\n",
    "                break\n",
    "        itemsets = _append_itemset(itemsets, items, memo)\n",
    "    return max_itemset\n",
    "    \n",
    "    \n",
    "function total_weight(items, memo):\n",
    "    if items.length = 1:\n",
    "        key = Set(items)\n",
    "        memo[key] = items[0].weight\n",
    "        return memo[key]\n",
    "    else:\n",
    "        key = Set(items[:-1])\n",
    "        next_key = Set(items)\n",
    "        memo[next_key] = memo[key] + items[-1].weight\n",
    "        return memo[next_key]\n",
    "        \n",
    "\n",
    "function total_value(items, memo):\n",
    "    if items.length = 1:\n",
    "        key = Set(items)\n",
    "        memo[key] = items[0].value\n",
    "        return memo[key]\n",
    "    else:\n",
    "        key = Set(items[:-1])\n",
    "        next_key = Set(items)\n",
    "        memo[next_key] = memo[key] + items[-1].value\n",
    "        return memo[next_key]\n",
    "```"
   ]
  },
  {
   "cell_type": "markdown",
   "metadata": {},
   "source": [
    "### Optimized implementation again (7r2)"
   ]
  },
  {
   "cell_type": "markdown",
   "metadata": {},
   "source": [
    "And now the algorithm. The memoization is separable to a separate function, which we'll define, test the correctness of, and then implement the algorithm itself."
   ]
  },
  {
   "cell_type": "code",
   "execution_count": 7,
   "metadata": {},
   "outputs": [],
   "source": [
    "function _total_prop(items, memo, accessor) {\n",
    "    if (items.length === 1) {\n",
    "        key = JSON.stringify(Array.from(new Set(items)));\n",
    "        memo[key] = accessor(items[0]);\n",
    "        return memo[key];\n",
    "    } else {\n",
    "        key = JSON.stringify(Array.from(new Set(items.slice(0, items.length - 1))));\n",
    "        next_key = JSON.stringify(Array.from(new Set(items)));\n",
    "        memo[next_key] = memo[key] + accessor(items[items.length - 1]);\n",
    "        return memo[next_key];\n",
    "    }\n",
    "}"
   ]
  },
  {
   "cell_type": "code",
   "execution_count": 8,
   "metadata": {},
   "outputs": [],
   "source": [
    "let fake_memo = {};\n",
    "let fae_key = {};"
   ]
  },
  {
   "cell_type": "code",
   "execution_count": 9,
   "metadata": {},
   "outputs": [],
   "source": [
    "assert.equal(_total_prop([{value: 1, weight: 1}], [], v => v.weight), 1)\n",
    "\n",
    "fake_memo = {}; \n",
    "fake_key = JSON.stringify(Array.from(new Set([{value: 1, weight: 1}])));\n",
    "fake_memo[fake_key] = 1;\n",
    "assert.equal(_total_prop([{value: 1, weight: 1}, {value: 2, weight: 2}], fake_memo, v => v.weight), 3)\n",
    "\n",
    "fake_memo = {}; \n",
    "fake_key = JSON.stringify(Array.from(new Set([{value: 1, weight: 1}, {value: 2, weight: 2}])));\n",
    "fake_memo[fake_key] = 3;\n",
    "assert.equal(_total_prop([{value: 1, weight: 1}, {value: 2, weight: 2}, {value: 3, weight: 3}], \n",
    "                         fake_memo, v => v.weight), 6)"
   ]
  },
  {
   "cell_type": "code",
   "execution_count": 10,
   "metadata": {},
   "outputs": [],
   "source": [
    "function knapsack(items, max_weight) {\n",
    "    if (items.length == 0) { return []; }\n",
    "    \n",
    "    let itemsets = items.sort((a, b) => a.weight < b.weight).map(v => [v]);\n",
    "//     console.log(itemsets);\n",
    "    let max_value = 0;\n",
    "    let max_itemset = [];\n",
    "    let memo = {};\n",
    "    while (itemsets.length > 0) {\n",
    "        let items_i = 0;\n",
    "        while (items_i < itemsets.length) {\n",
    "            let curr_set = itemsets[items_i];\n",
    "            let total_weight = _total_prop(curr_set, memo, v => v.weight);\n",
    "            if (total_weight <= max_weight) {\n",
    "//                 let current_value = _total_prop(curr_set, memo, v => v.value);\n",
    "                let current_value = curr_set.length > 1 ? \n",
    "                    curr_set.reduce((a, b) => a.value + b.value) :\n",
    "                    curr_set[0].value;                \n",
    "                if (current_value >  max_value) {\n",
    "                    max_itemset = curr_set;\n",
    "                    max_value = current_value;\n",
    "                }\n",
    "                items_i += 1;\n",
    "            }\n",
    "            else {\n",
    "                itemsets = itemsets.slice(0, items_i);\n",
    "                break;\n",
    "            }\n",
    "            \n",
    "            if (itemsets.length <= items_i) {\n",
    "                break;\n",
    "            }\n",
    "        }\n",
    "        itemsets = _append_itemset(itemsets, items);\n",
    "    }\n",
    "    return max_itemset;\n",
    "}"
   ]
  },
  {
   "cell_type": "code",
   "execution_count": 11,
   "metadata": {},
   "outputs": [
    {
     "data": {
      "text/plain": [
       "[ { value: 5, weight: 2 } ]"
      ]
     },
     "execution_count": 11,
     "metadata": {},
     "output_type": "execute_result"
    }
   ],
   "source": [
    "knapsack([{'value': 5, 'weight': 2}, {'value': 4, 'weight': 10}], 10);"
   ]
  },
  {
   "cell_type": "code",
   "execution_count": 12,
   "metadata": {},
   "outputs": [
    {
     "data": {
      "text/plain": [
       "5"
      ]
     },
     "execution_count": 12,
     "metadata": {},
     "output_type": "execute_result"
    }
   ],
   "source": [
    "fake_key = new Set([{v: 1, w: 2}])\n",
    "fake_memo = new Map();\n",
    "fake_memo[fake_key] = 2;\n",
    "\n",
    "fake_key = new Set([{v: 5, w: 5}])\n",
    "fake_memo[fake_key] = 5;"
   ]
  },
  {
   "cell_type": "markdown",
   "metadata": {},
   "source": [
    "TODO: this mostly works, except for an object-key issue...https://stackoverflow.com/questions/51846362/does-javascript-allow-set-keys-for-objects-fields"
   ]
  }
 ],
 "metadata": {
  "kernelspec": {
   "display_name": "Javascript (Node.js)",
   "language": "javascript",
   "name": "javascript"
  },
  "language_info": {
   "file_extension": ".js",
   "mimetype": "application/javascript",
   "name": "javascript",
   "version": "8.9.4"
  }
 },
 "nbformat": 4,
 "nbformat_minor": 2
}
