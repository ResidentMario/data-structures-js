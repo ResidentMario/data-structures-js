{
 "cells": [
  {
   "cell_type": "markdown",
   "metadata": {},
   "source": [
    "## Problem statement\n",
    "\n",
    "Q: *Maximum average sum partition of an array* &mdash; Given an array $n$ and an array of slots $k$, partition $n$ into $k$ such that the sum of the average of each group is maximized. Empty slots are not allowed. Adjacent elements in the list must remain adjacent in the sublists."
   ]
  },
  {
   "cell_type": "markdown",
   "metadata": {},
   "source": [
    "## Analysis\n",
    "\n",
    "The recurrance relationship we can take advantage of to enumerate the cases for a brute force solution is:\n",
    "\n",
    "$$\\text{Pt}([a_0, \\ldots, a_i], n) = \\{\\{a_0\\} \\times \\text{Pt}(a_1, \\ldots, a_i, n - 1), \\{a_0, a_1\\} \\times \\text{Pt}(a_2, \\ldots, a_i, n - 1), \\ldots, \\{a_0, \\ldots, a_{n - 1}\\} \\times \\text{Pt}(a_{i - n}, \\ldots, a_i, n - 1)\\}$$"
   ]
  },
  {
   "cell_type": "markdown",
   "metadata": {},
   "source": [
    "## Brute force pseudocode\n",
    "\n",
    "```\n",
    "function partition(arr, k, results=[]):\n",
    "    if len(arr) < k:\n",
    "        raise\n",
    "    elif len(arr) == k:\n",
    "        results += arr.map(v => [v])\n",
    "    else:\n",
    "        for idx in range(len(arr) - 1):\n",
    "            left = arr[:idx + 1]\n",
    "            right = arr[idx + 1:]\n",
    "\n",
    "            if len(right) <= k - 1:\n",
    "                results += [...left, ...right]\n",
    "            else:\n",
    "                results += zip(left, partition(right, k - 1))\n",
    "                \n",
    "    return result\n",
    "```\n",
    "\n",
    "The brute force solution is actually probably more complicated than the dynamic solution."
   ]
  },
  {
   "cell_type": "code",
   "execution_count": 1,
   "metadata": {},
   "outputs": [],
   "source": [
    "function partition(arr, k, results=[]) {\n",
    "    if (arr.length == k) results.push(arr.map(v => [v]));\n",
    "    \n",
    "    else {\n",
    "        for (idx of [...Array(arr.length) - 1].slice(1)) {\n",
    "            let left = arr.slice(0, idx);\n",
    "            let right = arr.slice(idx + 1);\n",
    "            \n",
    "            if (right.length <= k - 1) {\n",
    "                results \n",
    "            }\n",
    "        }\n",
    "    }\n",
    "    \n",
    "    return results;\n",
    "}"
   ]
  },
  {
   "cell_type": "markdown",
   "metadata": {},
   "source": [
    "```\n",
    "function partition(arr, k):\n",
    "    memo = {}\n",
    "    n_buckets = 2\n",
    "    first_bucket_end_idx = 1\n",
    "\n",
    "    while n_buckets <= k:\n",
    "        memo[n_buckets] = {}\n",
    "        \n",
    "        while first_bucket_end_idx <= arr.length - k:\n",
    "            if n_buckets == 2:\n",
    "                memo[n_buckets][first_bucket_end_idx] = pairwise_partitions(arr[first_bucket_end_idx:])\n",
    "            else:\n",
    "                memo[n_buckets][first_bucket_end_idx] = cross_join(\n",
    "                    [arr[:first_bucket_end_idx + 1]], memo[n_buckets - 1][first_bucket_end_idx]\n",
    "                )\n",
    "            \n",
    "            first_bucket_end_idx += 1\n",
    "            \n",
    "    n_buckets += 1\n",
    "    \n",
    "    return memo[k]\n",
    "```"
   ]
  },
  {
   "cell_type": "markdown",
   "metadata": {},
   "source": [
    "Unfinished, too much time spent."
   ]
  }
 ],
 "metadata": {
  "kernelspec": {
   "display_name": "Javascript (Node.js)",
   "language": "javascript",
   "name": "javascript"
  },
  "language_info": {
   "file_extension": ".js",
   "mimetype": "application/javascript",
   "name": "javascript",
   "version": "8.9.4"
  }
 },
 "nbformat": 4,
 "nbformat_minor": 2
}
