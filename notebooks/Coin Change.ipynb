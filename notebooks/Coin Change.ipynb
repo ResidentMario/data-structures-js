{
 "cells": [
  {
   "cell_type": "markdown",
   "metadata": {},
   "source": [
    "## Problem statement\n",
    "\n",
    "Q: Given pennies, nickels, dimes, and quarters, and a certain money value $v$, make the total value $v$ with the fewest total coins possible.\n",
    "\n",
    "This is a famous introductory exercise.\n",
    "\n",
    "The brute force solution is to iterate over every possible combination of coins whose total is smaller than the value $v$, appending coins of each type to the prior total and checking if the result is equal in value to $v$."
   ]
  },
  {
   "cell_type": "markdown",
   "metadata": {},
   "source": [
    "## Test suite"
   ]
  },
  {
   "cell_type": "code",
   "execution_count": 6,
   "metadata": {},
   "outputs": [
    {
     "name": "stderr",
     "output_type": "stream",
     "text": [
      "......"
     ]
    },
    {
     "name": "stdout",
     "output_type": "stream",
     "text": [
      "4 {3: [3], 2: [2], 1: [1]} [3]\n",
      "5 {4: [3, 1], 3: [3], 2: [2]} [3]\n",
      "5 {4: [4], 3: [3], 2: [2], 1: [1]} [4]\n",
      "6 {5: [4, 1], 4: [4], 3: [3], 2: [2]} [4]\n"
     ]
    },
    {
     "name": "stderr",
     "output_type": "stream",
     "text": [
      "\n",
      "----------------------------------------------------------------------\n",
      "Ran 6 tests in 0.007s\n",
      "\n",
      "OK\n"
     ]
    }
   ],
   "source": [
    "import unittest\n",
    "\n",
    "class TestCC(unittest.TestCase):\n",
    "    \"\"\"Example of how to use unittest in Jupyter.\"\"\"\n",
    "    \n",
    "    def testZeroLength(self):\n",
    "        self.assertEqual(cc(0, []), [])\n",
    "        \n",
    "    def testTrivial(self):\n",
    "        self.assertEqual(cc(1, [1]), [1])\n",
    "\n",
    "    def testDouble(self):\n",
    "        self.assertEqual(cc(1, [1, 1]), [1])\n",
    "\n",
    "    def testNonTrivial(self):\n",
    "        self.assertEqual(sorted(cc(5, [1, 2, 3])), [2, 3])\n",
    "        \n",
    "    def testNonTrivialMore(self):\n",
    "        self.assertEqual(sorted(cc(6, [1, 2, 3, 4])), [2, 4])\n",
    "        \n",
    "    def testImpossible(self):\n",
    "        self.assertEqual(sorted(cc(1, [10])), [])\n",
    "        \n",
    "\n",
    "        \n",
    "if __name__ == '__main__':\n",
    "    unittest.main(argv=[''], exit=False)"
   ]
  },
  {
   "cell_type": "markdown",
   "metadata": {},
   "source": [
    "## Brute force psuedocode implementation\n",
    "\n",
    "```\n",
    "function cc(v, coins):\n",
    "    known_solutions = []\n",
    "    rcc(known_solutions)\n",
    "    return argmin(known_solutions)\n",
    "\n",
    "\n",
    "function rcc(v, coins, known_solutions, prior_coins):\n",
    "    for coin in coins:\n",
    "        next_v = prior.value + coin.value\n",
    "        if next_v = v:\n",
    "            known_solutions.append(next_v)\n",
    "            break\n",
    "        else if next_v > v:\n",
    "            break\n",
    "        else:\n",
    "            new_prior = prior_coins.push(coin)\n",
    "            rcc(v, coins, known_solutions, new_prior)\n",
    "```"
   ]
  },
  {
   "cell_type": "code",
   "execution_count": 2,
   "metadata": {},
   "outputs": [],
   "source": [
    "def cc(v, coins):\n",
    "    known_solutions = []\n",
    "    start_prior = {'value': 0, 'coins': []}\n",
    "    rcc(v, coins, known_solutions, start_prior)\n",
    "    \n",
    "    if known_solutions == []:\n",
    "        return []\n",
    "    \n",
    "    best_solution = known_solutions[0]\n",
    "    for solution in known_solutions:\n",
    "        if len(solution) < len(best_solution):\n",
    "            best_solution = solution\n",
    "    return best_solution\n",
    "\n",
    "def rcc(v, coins, known_solutions, prior_coins):\n",
    "    for coin in coins:\n",
    "        next_v = prior_coins['value'] + coin\n",
    "        if next_v == v:\n",
    "            known_solutions.append(prior_coins['coins'] + [coin])\n",
    "            break\n",
    "        elif next_v > v:\n",
    "            break\n",
    "        else:\n",
    "            new_prior = {'value': next_v, 'coins': prior_coins['coins'] + [coin]}\n",
    "            rcc(v, coins, known_solutions, new_prior)"
   ]
  },
  {
   "cell_type": "markdown",
   "metadata": {},
   "source": [
    "### Greedy solution psuedocode\n",
    "\n",
    "It turns out that an optimal solution to the coin change problem is to just take as many of the largest donomination of coin as possible, and working up the list. There is a recursive proof you can do to show that this is true."
   ]
  },
  {
   "cell_type": "markdown",
   "metadata": {},
   "source": [
    "```\n",
    "function cc(v, coins):\n",
    "    sol = []\n",
    "    sol_tot = 0\n",
    "    for coin in coins:\n",
    "        while (sol_tot + coin <= v):\n",
    "            sol.append(coin)\n",
    "            sol_tot += coin\n",
    "        if sol_tot == v:\n",
    "            return sol_tot\n",
    "    return None\n",
    "```"
   ]
  },
  {
   "cell_type": "markdown",
   "metadata": {},
   "source": [
    "### Greedy solution implementation"
   ]
  },
  {
   "cell_type": "code",
   "execution_count": 3,
   "metadata": {},
   "outputs": [],
   "source": [
    "def cc(v, coins):\n",
    "    sol = []\n",
    "    sol_tot = 0\n",
    "    for coin in coins:\n",
    "        while (sol_tot + coin <= v):\n",
    "            sol.append(coin)\n",
    "            sol_tot += coin\n",
    "        if sol_tot == v:\n",
    "            return sol\n",
    "    return None"
   ]
  },
  {
   "cell_type": "code",
   "execution_count": 4,
   "metadata": {},
   "outputs": [
    {
     "data": {
      "text/plain": [
       "[3, 2]"
      ]
     },
     "execution_count": 4,
     "metadata": {},
     "output_type": "execute_result"
    }
   ],
   "source": [
    "cc(5, [3, 2, 1])"
   ]
  },
  {
   "cell_type": "markdown",
   "metadata": {},
   "source": [
    "### Dynamic analysis\n",
    "\n",
    "The other solution is to recognize that the optimal solution for value $x$ is the best (smallest) solution amongst $x - 1$, $x - 5$, $x - 10$, and $x - 25$, plus one (the one additional coin required). In other words:\n",
    "\n",
    "$$\\text{cc}(x) = \\min{\\{\\text{cc}(x-10), \\text{cc}(x-5), \\text{cc}(x-25), \\text{cc}(x-1)\\}} + 1$$\n",
    "\n",
    "We can use this relation to forward solve the problem."
   ]
  },
  {
   "cell_type": "markdown",
   "metadata": {},
   "source": [
    "### Dynamic pseudocode"
   ]
  },
  {
   "cell_type": "markdown",
   "metadata": {},
   "source": [
    "```\n",
    "function cc(v, coins):\n",
    "    memo = {coin: [coin] for coin in coins}\n",
    "    for n in range(2, v + 1):\n",
    "        priors = [n - coin for coin in coins if n - coin >= 1]\n",
    "        priors = [memo[prior] for prior in priors]\n",
    "        selected_prior_idx = argmin([prior for prior in priors])\n",
    "        selected_prior = priors[selected_prior_idx]\n",
    "        selected_prior_missing_coin = coins[selected_prior_idx]\n",
    "        memo[n] = selected_prior + [selected_prior_missing_coin]\n",
    "        \n",
    "    return memo[v]\n",
    "```"
   ]
  },
  {
   "cell_type": "code",
   "execution_count": 9,
   "metadata": {},
   "outputs": [],
   "source": [
    "def cc(v, coins):\n",
    "    if coins == [] or v < min(coins): return []\n",
    "    \n",
    "    coins = sorted(coins)\n",
    "    memo = {coin: [coin] for coin in coins}\n",
    "    for n in range(2, v + 1):\n",
    "        # Skip keys already included. Missed this in the initial pseudocode!\n",
    "        if n in memo.keys():\n",
    "            continue\n",
    "            \n",
    "        priors = [n - coin for coin in coins if n - coin >= 1]\n",
    "        priors = {prior: memo[prior] for prior in priors}\n",
    "        \n",
    "        def argmin(d):\n",
    "            if len(d.keys()) == 0: return\n",
    "            best, best_idx = d[list(d.keys())[0]], 0\n",
    "            for (idx, d_k) in enumerate(d.keys()):\n",
    "                if len(d[d_k]) < len(best):\n",
    "                    best, best_idx = d[d_k], idx\n",
    "            return best, best_idx\n",
    "        \n",
    "        selected_prior, selected_prior_idx = argmin(priors)\n",
    "        \n",
    "        print(n, priors, selected_prior)        \n",
    "        \n",
    "        selected_prior_missing_coin = coins[selected_prior_idx]\n",
    "        memo[n] = selected_prior + [selected_prior_missing_coin]\n",
    "    \n",
    "    return memo[v]"
   ]
  },
  {
   "cell_type": "markdown",
   "metadata": {},
   "source": [
    "After a long derivation looking at the recursion tree, I think the brute-force solution is perhaps $O(n!v!)$, where $n$ is the number of different coins possible and $v$ is the the value we are looking for, but it's hard to be sure from a time-constrained look at the numbers.\n",
    "\n",
    "The greedy solution is $O(n)$, where $n$ is the number of coins.\n",
    "\n",
    "The dynamic solution is $O(v)$, where $v$ is the value."
   ]
  }
 ],
 "metadata": {
  "kernelspec": {
   "display_name": "Python 3",
   "language": "python",
   "name": "python3"
  },
  "language_info": {
   "codemirror_mode": {
    "name": "ipython",
    "version": 3
   },
   "file_extension": ".py",
   "mimetype": "text/x-python",
   "name": "python",
   "nbconvert_exporter": "python",
   "pygments_lexer": "ipython3",
   "version": "3.6.6"
  }
 },
 "nbformat": 4,
 "nbformat_minor": 2
}
